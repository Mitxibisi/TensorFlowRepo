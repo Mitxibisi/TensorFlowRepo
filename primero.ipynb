{
  "nbformat": 4,
  "nbformat_minor": 0,
  "metadata": {
    "colab": {
      "provenance": [],
      "authorship_tag": "ABX9TyMGyff6MBvIGLhBt0OPkA6t",
      "include_colab_link": true
    },
    "kernelspec": {
      "name": "python3",
      "display_name": "Python 3"
    },
    "language_info": {
      "name": "python"
    }
  },
  "cells": [
    {
      "cell_type": "markdown",
      "metadata": {
        "id": "view-in-github",
        "colab_type": "text"
      },
      "source": [
        "<a href=\"https://colab.research.google.com/github/Mitxibisi/TensorFlowRepo/blob/main/primero.ipynb\" target=\"_parent\"><img src=\"https://colab.research.google.com/assets/colab-badge.svg\" alt=\"Open In Colab\"/></a>"
      ]
    },
    {
      "cell_type": "code",
      "execution_count": 1,
      "metadata": {
        "id": "9LG0TGvc7q6o"
      },
      "outputs": [],
      "source": [
        "import tensorflow as tf\n",
        "import numpy as np"
      ]
    },
    {
      "cell_type": "code",
      "source": [
        "celsius = np.array([-40,-10,0,8,15,22,38],dtype=float)\n",
        "fahrenheit = np.array([-40,14,32,46,59,72,100],dtype=float)"
      ],
      "metadata": {
        "id": "4fmRfW647tu0"
      },
      "execution_count": 4,
      "outputs": []
    },
    {
      "cell_type": "code",
      "source": [
        "#capa =  tf.keras.layers.Dense(units = 1, input_shape = [1])\n",
        "#modelo = tf.keras.models.Sequential([capa])\n",
        "\n",
        "oculta1 = tf.keras.layers.Dense(units = 3, input_shape = [1])\n",
        "oculta2 = tf.keras.layers.Dense(units = 3)\n",
        "salida = tf.keras.layers.Dense(units = 1)\n",
        "modelo = tf.keras.models.Sequential([oculta1,oculta2,salida])"
      ],
      "metadata": {
        "colab": {
          "base_uri": "https://localhost:8080/"
        },
        "id": "1TQ-X4CF8uVs",
        "outputId": "77ab8588-160e-481a-f9e6-87742d03af9f"
      },
      "execution_count": 16,
      "outputs": [
        {
          "output_type": "stream",
          "name": "stderr",
          "text": [
            "/usr/local/lib/python3.11/dist-packages/keras/src/layers/core/dense.py:87: UserWarning: Do not pass an `input_shape`/`input_dim` argument to a layer. When using Sequential models, prefer using an `Input(shape)` object as the first layer in the model instead.\n",
            "  super().__init__(activity_regularizer=activity_regularizer, **kwargs)\n"
          ]
        }
      ]
    },
    {
      "cell_type": "code",
      "source": [
        "modelo.compile(\n",
        "    optimizer = tf.keras.optimizers.Adam(0.1),\n",
        "    loss = 'mean_squared_error'\n",
        ")"
      ],
      "metadata": {
        "id": "kdvB5znm9WIH"
      },
      "execution_count": 17,
      "outputs": []
    },
    {
      "cell_type": "code",
      "source": [
        "historial = modelo.fit(celsius,fahrenheit,epochs=500,verbose=False)\n",
        "print (\"modelo entrenado\")"
      ],
      "metadata": {
        "colab": {
          "base_uri": "https://localhost:8080/"
        },
        "id": "4KIULe0r9mTU",
        "outputId": "0c213d3e-855b-45c2-a190-2113e038680d"
      },
      "execution_count": 18,
      "outputs": [
        {
          "output_type": "stream",
          "name": "stdout",
          "text": [
            "modelo entrenado\n"
          ]
        }
      ]
    },
    {
      "cell_type": "code",
      "source": [
        "import matplotlib.pyplot as plt\n",
        "plt.xlabel(\"# Epoca\")\n",
        "plt.ylabel(\"Magnitud de pérdida\")\n",
        "plt.plot(historial.history[\"loss\"])"
      ],
      "metadata": {
        "colab": {
          "base_uri": "https://localhost:8080/",
          "height": 466
        },
        "id": "Sy3JgdAHDInM",
        "outputId": "f6a9309b-c404-4bd8-f83c-32d6301f1ca8"
      },
      "execution_count": 19,
      "outputs": [
        {
          "output_type": "execute_result",
          "data": {
            "text/plain": [
              "[<matplotlib.lines.Line2D at 0x7ecd78b5f310>]"
            ]
          },
          "metadata": {},
          "execution_count": 19
        },
        {
          "output_type": "display_data",
          "data": {
            "text/plain": [
              "<Figure size 640x480 with 1 Axes>"
            ],
            "image/png": "[encoded data removed]"
          },
          "metadata": {}
        }
      ]
    },
    {
      "cell_type": "code",
      "source": [
        "print(\"Hagamos una prediccion\")\n",
        "entrada = np.array([100.0])\n",
        "resultado = modelo.predict(entrada)\n",
        "print(\"El resultado es \" + str(resultado) + \"fahrenheit\")"
      ],
      "metadata": {
        "colab": {
          "base_uri": "https://localhost:8080/"
        },
        "id": "N4jf7gUmBAx5",
        "outputId": "c8bff5b1-7fa2-4348-8d4d-0785598d0e29"
      },
      "execution_count": 20,
      "outputs": [
        {
          "output_type": "stream",
          "name": "stdout",
          "text": [
            "Hagamos una prediccion\n",
            "\u001b[1m1/1\u001b[0m \u001b[32m━━━━━━━━━━━━━━━━━━━━\u001b[0m\u001b[37m\u001b[0m \u001b[1m0s\u001b[0m 64ms/step\n",
            "El resultado es [[211.74754]]fahrenheit\n"
          ]
        }
      ]
    },
    {
      "cell_type": "code",
      "source": [
        "print(\"variables internas del modelo\")\n",
        "print(oculta1.get_weights())\n",
        "print(oculta2.get_weights())\n",
        "print(salida.get_weights())"
      ],
      "metadata": {
        "colab": {
          "base_uri": "https://localhost:8080/"
        },
        "id": "21lJjh_fDrqr",
        "outputId": "afbb8a3b-df31-49eb-c09e-43ba03e13d71"
      },
      "execution_count": 21,
      "outputs": [
        {
          "output_type": "stream",
          "name": "stdout",
          "text": [
            "variables internas del modelo\n",
            "[array([[-0.92787755, -0.6156533 , -0.20027389]], dtype=float32), array([-3.2629654, -3.2756493,  2.981832 ], dtype=float32)]\n",
            "[array([[ 0.9058811 , -0.80408275,  0.21161033],\n",
            "       [ 1.3075302 ,  0.49901944, -0.7079143 ],\n",
            "       [-2.128772  ,  1.5092661 , -0.65249914]], dtype=float32), array([-3.3057773,  3.1618304,  1.0734787], dtype=float32)]\n",
            "[array([[-1.37619   ],\n",
            "       [ 0.6214529 ],\n",
            "       [ 0.09513764]], dtype=float32), array([3.2572136], dtype=float32)]\n"
          ]
        }
      ]
    }
  ]
}